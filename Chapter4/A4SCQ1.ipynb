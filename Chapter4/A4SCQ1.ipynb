{
 "cells": [
  {
   "cell_type": "code",
   "execution_count": null,
   "id": "00aa7676-d1cb-45d3-a642-8bca5d04181b",
   "metadata": {},
   "outputs": [],
   "source": [
    "import pandas as pd\n",
    "from mlxtend.frequent_patterns import apriori, association_rules\n",
    "from mlxtend.preprocessing import TransactionEncoder\n",
    "\n",
    "# Step 1: Load transactions from CSV\n",
    "def load_transactions(file_path):\n",
    "    df = pd.read_csv(file_path, header=None)\n",
    "    transactions = df.apply(lambda row: row.dropna().tolist(), axis=1).tolist()\n",
    "    return transactions\n",
    "\n",
    "# Step 2: Apply Apriori algorithm and generate rules\n",
    "def run_apriori(transactions, min_support=0.004, min_confidence=0.2, min_lift=3, min_len=2):\n",
    "    te = TransactionEncoder()\n",
    "    te_ary = te.fit(transactions).transform(transactions)\n",
    "    df = pd.DataFrame(te_ary, columns=te.columns_)\n",
    "\n",
    "    # Frequent itemsets\n",
    "    frequent_itemsets = apriori(df, min_support=min_support, use_colnames=True)\n",
    "\n",
    "    # Association rules\n",
    "    rules = association_rules(frequent_itemsets, metric=\"lift\", min_threshold=min_lift)\n",
    "\n",
    "    # Filter by confidence and length\n",
    "    rules = rules[\n",
    "        (rules['confidence'] >= min_confidence) &\n",
    "        (rules['lift'] >= min_lift) &\n",
    "        (rules['antecedents'].apply(lambda x: len(x) >= 1)) &\n",
    "        (rules['consequents'].apply(lambda x: len(x) >= 1)) &\n",
    "        ((rules['antecedents'].apply(len) + rules['consequents'].apply(len)) >= min_len)\n",
    "    ]\n",
    "\n",
    "    return rules\n",
    "\n",
    "# Step 3: Display rules\n",
    "def display_rules(rules):\n",
    "    if rules.empty:\n",
    "        print(\"No association rules found with the given thresholds.\")\n",
    "        return\n",
    "    print(f\"{'Rule':50s}  {'Support':>8s}  {'Confidence':>10s}  {'Lift':>8s}\")\n",
    "    print(\"-\" * 85)\n",
    "    for _, row in rules.iterrows():\n",
    "        rule = f\"{set(row['antecedents'])} => {set(row['consequents'])}\"\n",
    "        print(f\"{rule:50s}  {row['support']:.4f}    {row['confidence']:.4f}    {row['lift']:.4f}\")\n",
    "\n",
    "# Main Execution\n",
    "if __name__ == \"__main__\":\n",
    "    file_path = 'transactions.csv'  # <-- Ensure your CSV file is in the same folder\n",
    "    transactions = load_transactions(file_path)\n",
    "    rules = run_apriori(transactions,\n",
    "                        min_support=0.0040,\n",
    "                        min_confidence=0.2,\n",
    "                        min_lift=3,\n",
    "                        min_len=2)\n",
    "    display_rules(rules)\n"
   ]
  }
 ],
 "metadata": {
  "kernelspec": {
   "display_name": "Python 3 (ipykernel)",
   "language": "python",
   "name": "python3"
  },
  "language_info": {
   "codemirror_mode": {
    "name": "ipython",
    "version": 3
   },
   "file_extension": ".py",
   "mimetype": "text/x-python",
   "name": "python",
   "nbconvert_exporter": "python",
   "pygments_lexer": "ipython3",
   "version": "3.13.5"
  }
 },
 "nbformat": 4,
 "nbformat_minor": 5
}
