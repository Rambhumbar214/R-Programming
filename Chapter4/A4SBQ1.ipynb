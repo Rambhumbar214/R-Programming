{
 "cells": [
  {
   "cell_type": "code",
   "execution_count": 3,
   "id": "c5673f62-9dda-4c30-a355-520cacdbced7",
   "metadata": {},
   "outputs": [
    {
     "name": "stdout",
     "output_type": "stream",
     "text": [
      "Shape of dataset: (1000, 8)\n",
      "\n",
      "Top 5 rows:\n",
      "   gender race/ethnicity parental level of education         lunch  \\\n",
      "0  female        group B           bachelor's degree      standard   \n",
      "1  female        group C                some college      standard   \n",
      "2  female        group B             master's degree      standard   \n",
      "3    male        group A          associate's degree  free/reduced   \n",
      "4    male        group C                some college      standard   \n",
      "\n",
      "  test preparation course  math score  reading score  writing score  \n",
      "0                    none          72             72             74  \n",
      "1               completed          69             90             88  \n",
      "2                    none          90             95             93  \n",
      "3                    none          47             57             44  \n",
      "4                    none          76             78             75  \n",
      "\n",
      "Random 5 rows:\n",
      "     gender race/ethnicity parental level of education         lunch  \\\n",
      "772  female        group B            some high school  free/reduced   \n",
      "631    male        group B                 high school      standard   \n",
      "33     male        group D                some college      standard   \n",
      "965  female        group D                some college      standard   \n",
      "550    male        group C            some high school  free/reduced   \n",
      "\n",
      "    test preparation course  math score  reading score  writing score  \n",
      "772               completed          52             67             72  \n",
      "631                    none          79             60             65  \n",
      "33                     none          40             42             38  \n",
      "965                    none          62             70             72  \n",
      "550                    none          79             76             65  \n",
      "\n",
      "Number of columns: 8\n",
      "Column names:\n",
      "['gender', 'race/ethnicity', 'parental level of education', 'lunch', 'test preparation course', 'math score', 'reading score', 'writing score']\n"
     ]
    }
   ],
   "source": [
    "import pandas as pd\n",
    "\n",
    "# Load the dataset (update the path if needed)\n",
    "\n",
    "df = pd.read_csv(\"C:/Users/Admin/Desktop/Ram_Datamininig/Chapter4/StudentsPerformance.csv\")\n",
    "\n",
    "# 1. Display the shape of dataset (rows, columns)\n",
    "print(\"Shape of dataset:\", df.shape)\n",
    "\n",
    "# 2. Display the top rows of the dataset with their columns (default 5 rows)\n",
    "print(\"\\nTop 5 rows:\")\n",
    "print(df.head())\n",
    "\n",
    "# 3. Display a random sample of rows (for example, 5 random rows)\n",
    "print(\"\\nRandom 5 rows:\")\n",
    "print(df.sample(5))\n",
    "\n",
    "# 4. Display the number of columns and their names\n",
    "print(\"\\nNumber of columns:\", df.shape[1])\n",
    "print(\"Column names:\")\n",
    "print(df.columns.tolist())\n"
   ]
  },
  {
   "cell_type": "code",
   "execution_count": null,
   "id": "7c574ce5-9866-417a-8c01-94060255788a",
   "metadata": {},
   "outputs": [],
   "source": []
  }
 ],
 "metadata": {
  "kernelspec": {
   "display_name": "Python 3 (ipykernel)",
   "language": "python",
   "name": "python3"
  },
  "language_info": {
   "codemirror_mode": {
    "name": "ipython",
    "version": 3
   },
   "file_extension": ".py",
   "mimetype": "text/x-python",
   "name": "python",
   "nbconvert_exporter": "python",
   "pygments_lexer": "ipython3",
   "version": "3.13.5"
  }
 },
 "nbformat": 4,
 "nbformat_minor": 5
}
