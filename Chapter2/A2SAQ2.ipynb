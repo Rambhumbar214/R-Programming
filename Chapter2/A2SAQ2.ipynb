{
 "cells": [
  {
   "cell_type": "code",
   "execution_count": 3,
   "id": "7f039f96-235e-4a74-968d-14b1d5340502",
   "metadata": {},
   "outputs": [
    {
     "name": "stdout",
     "output_type": "stream",
     "text": [
      "\n",
      "Converted categorical columns to numeric.\n",
      "   Region  Online Shopper\n",
      "0       1               0\n",
      "1       0               1\n",
      "2       2               0\n",
      "3       0               0\n",
      "4       2               1\n"
     ]
    }
   ],
   "source": [
    "# Convert categorical columns to numeric using Label Encoding\n",
    "import pandas as pd\n",
    "from sklearn.preprocessing import LabelEncoder\n",
    "\n",
    "url =\"C:/Users/Admin/Desktop/Ram_Datamininig/Chapter2/DataPreprocessing.csv\"\n",
    "df = pd.read_csv(url)\n",
    "\n",
    "# Select categorical columns\n",
    "categorical_cols = df.select_dtypes(include=['object']).columns\n",
    "\n",
    "# Apply Label Encoding\n",
    "label_encoders = {}\n",
    "for col in categorical_cols:\n",
    "    le = LabelEncoder()\n",
    "    df[col] = df[col].astype(str)  # Convert all to string to handle NaNs\n",
    "    df[col] = le.fit_transform(df[col])\n",
    "    label_encoders[col] = le\n",
    "\n",
    "print(\"\\nConverted categorical columns to numeric.\")\n",
    "print(df[categorical_cols].head())\n"
   ]
  },
  {
   "cell_type": "code",
   "execution_count": null,
   "id": "e70676d0-eb79-48cf-9849-f449f7b50b96",
   "metadata": {},
   "outputs": [],
   "source": []
  }
 ],
 "metadata": {
  "kernelspec": {
   "display_name": "Python 3 (ipykernel)",
   "language": "python",
   "name": "python3"
  },
  "language_info": {
   "codemirror_mode": {
    "name": "ipython",
    "version": 3
   },
   "file_extension": ".py",
   "mimetype": "text/x-python",
   "name": "python",
   "nbconvert_exporter": "python",
   "pygments_lexer": "ipython3",
   "version": "3.13.5"
  }
 },
 "nbformat": 4,
 "nbformat_minor": 5
}
