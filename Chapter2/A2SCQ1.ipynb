{
 "cells": [
  {
   "cell_type": "code",
   "execution_count": 3,
   "id": "93e18083-1695-45d5-8c50-3950953ceacc",
   "metadata": {},
   "outputs": [
    {
     "name": "stdout",
     "output_type": "stream",
     "text": [
      "Original dataset shape: (10, 4)\n",
      "Columns in dataset: ['Region', 'Age', 'Income', 'Online Shopper']\n",
      "After dropping missing values: (8, 4)\n",
      "Final Preprocessed Training Data Shape: (6, 3)\n",
      "Final Preprocessed Test Data Shape: (2, 3)\n"
     ]
    }
   ],
   "source": [
    "import pandas as pd\n",
    "from sklearn.model_selection import train_test_split\n",
    "from sklearn.preprocessing import LabelEncoder, StandardScaler\n",
    "\n",
    "# Load dataset\n",
    "url = \"C:/Users/Admin/Desktop/Ram_Datamininig/Chapter2/DataPreprocessing.csv\"\n",
    "df = pd.read_csv(url)\n",
    "\n",
    "print(\"Original dataset shape:\", df.shape)\n",
    "print(\"Columns in dataset:\", df.columns.tolist())  # Check column names\n",
    "\n",
    "# Handle missing values\n",
    "df = df.dropna()\n",
    "print(\"After dropping missing values:\", df.shape)\n",
    "\n",
    "# Encode categorical variables\n",
    "categorical_cols = df.select_dtypes(include='object').columns\n",
    "\n",
    "label_encoders = {}\n",
    "for col in categorical_cols:\n",
    "    le = LabelEncoder()\n",
    "    df[col] = le.fit_transform(df[col].astype(str))\n",
    "    label_encoders[col] = le\n",
    "\n",
    "# ✅ Correct target column\n",
    "target_column = 'Online Shopper'\n",
    "\n",
    "# Ensure the column exists\n",
    "if target_column not in df.columns:\n",
    "    raise ValueError(f\"Column '{target_column}' not found in dataset. Available columns: {df.columns.tolist()}\")\n",
    "\n",
    "# Split features and target\n",
    "X = df.drop(target_column, axis=1)\n",
    "y = df[target_column]\n",
    "\n",
    "# Train-test split\n",
    "X_train, X_test, y_train, y_test = train_test_split(X, y, test_size=0.2, random_state=1)\n",
    "\n",
    "# Feature Scaling\n",
    "scaler = StandardScaler()\n",
    "X_train_scaled = scaler.fit_transform(X_train)\n",
    "X_test_scaled = scaler.transform(X_test)\n",
    "\n",
    "print(\"Final Preprocessed Training Data Shape:\", X_train_scaled.shape)\n",
    "print(\"Final Preprocessed Test Data Shape:\", X_test_scaled.shape)\n"
   ]
  },
  {
   "cell_type": "code",
   "execution_count": null,
   "id": "133a3a3a-72d4-4cb1-8a9f-07619f16d907",
   "metadata": {},
   "outputs": [],
   "source": []
  }
 ],
 "metadata": {
  "kernelspec": {
   "display_name": "Python 3 (ipykernel)",
   "language": "python",
   "name": "python3"
  },
  "language_info": {
   "codemirror_mode": {
    "name": "ipython",
    "version": 3
   },
   "file_extension": ".py",
   "mimetype": "text/x-python",
   "name": "python",
   "nbconvert_exporter": "python",
   "pygments_lexer": "ipython3",
   "version": "3.13.5"
  }
 },
 "nbformat": 4,
 "nbformat_minor": 5
}
