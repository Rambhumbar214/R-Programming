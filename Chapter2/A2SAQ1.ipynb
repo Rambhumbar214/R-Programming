{
 "cells": [
  {
   "cell_type": "code",
   "execution_count": 2,
   "id": "f6572c39-5a80-4042-8ca3-32eae06dea3b",
   "metadata": {},
   "outputs": [
    {
     "name": "stdout",
     "output_type": "stream",
     "text": [
      "Null values in each column:\n",
      " Region            0\n",
      "Age               1\n",
      "Income            1\n",
      "Online Shopper    0\n",
      "dtype: int64\n",
      "\n",
      "Shape before removing nulls: (10, 4)\n",
      "Shape after removing nulls: (8, 4)\n"
     ]
    }
   ],
   "source": [
    "import pandas as pd\n",
    "\n",
    "# Load dataset (example GitHub CSV)\n",
    "url =\"C:/Users/Admin/Desktop/Ram_Datamininig/Chapter2/DataPreprocessing.csv\"\n",
    "df = pd.read_csv(url)\n",
    "\n",
    "# Display null value counts\n",
    "print(\"Null values in each column:\\n\", df.isnull().sum())\n",
    "\n",
    "# Remove rows with any null values\n",
    "df_cleaned = df.dropna()\n",
    "\n",
    "print(\"\\nShape before removing nulls:\", df.shape)\n",
    "print(\"Shape after removing nulls:\", df_cleaned.shape)\n"
   ]
  },
  {
   "cell_type": "code",
   "execution_count": null,
   "id": "3d7cebb8-d92e-4121-b56c-c749a76c0046",
   "metadata": {},
   "outputs": [],
   "source": []
  }
 ],
 "metadata": {
  "kernelspec": {
   "display_name": "Python 3 (ipykernel)",
   "language": "python",
   "name": "python3"
  },
  "language_info": {
   "codemirror_mode": {
    "name": "ipython",
    "version": 3
   },
   "file_extension": ".py",
   "mimetype": "text/x-python",
   "name": "python",
   "nbconvert_exporter": "python",
   "pygments_lexer": "ipython3",
   "version": "3.13.5"
  }
 },
 "nbformat": 4,
 "nbformat_minor": 5
}
