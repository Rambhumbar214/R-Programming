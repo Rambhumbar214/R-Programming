{
 "cells": [
  {
   "cell_type": "code",
   "execution_count": 1,
   "id": "56bda20b-eda2-42e2-b1de-a99fc860a287",
   "metadata": {},
   "outputs": [
    {
     "name": "stdout",
     "output_type": "stream",
     "text": [
      "Intercept (b0): 0.838709677419355\n",
      "Slope (b1): 1.2889200561009817\n"
     ]
    }
   ],
   "source": [
    "import numpy as np\n",
    "\n",
    "x = np.array([0, 1, 2, 3, 4, 5, 6, 7, 8, 9, 11, 13])\n",
    "y = np.array([1, 3, 2, 5, 7, 8, 8, 9, 10, 12, 16, 18])\n",
    "\n",
    "x_mean = np.mean(x)\n",
    "y_mean = np.mean(y)\n",
    "\n",
    "b1 = np.sum((x - x_mean) * (y - y_mean)) / np.sum((x - x_mean)**2)\n",
    "b0 = y_mean - b1 * x_mean\n",
    "\n",
    "print(\"Intercept (b0):\", b0)\n",
    "print(\"Slope (b1):\", b1)\n"
   ]
  },
  {
   "cell_type": "code",
   "execution_count": null,
   "id": "da9e30ab-7de5-454a-a961-2e85c5afddf3",
   "metadata": {},
   "outputs": [],
   "source": []
  }
 ],
 "metadata": {
  "kernelspec": {
   "display_name": "Python 3 (ipykernel)",
   "language": "python",
   "name": "python3"
  },
  "language_info": {
   "codemirror_mode": {
    "name": "ipython",
    "version": 3
   },
   "file_extension": ".py",
   "mimetype": "text/x-python",
   "name": "python",
   "nbconvert_exporter": "python",
   "pygments_lexer": "ipython3",
   "version": "3.13.5"
  }
 },
 "nbformat": 4,
 "nbformat_minor": 5
}
