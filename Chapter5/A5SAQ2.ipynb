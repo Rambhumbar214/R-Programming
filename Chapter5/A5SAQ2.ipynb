{
 "cells": [
  {
   "cell_type": "code",
   "execution_count": 1,
   "id": "22a909a5-4a2c-4e83-bf23-25e8b2786529",
   "metadata": {},
   "outputs": [
    {
     "name": "stdout",
     "output_type": "stream",
     "text": [
      "Intercept (b0): 7.642857142857142\n",
      "Slope (b1): 2.2738095238095237\n",
      "R^2 score: 0.8867741072947811\n"
     ]
    }
   ],
   "source": [
    "import numpy as np\n",
    "from sklearn.linear_model import LinearRegression\n",
    "from sklearn.metrics import r2_score\n",
    "\n",
    "# Data\n",
    "x = np.array([1, 2, 3, 4, 5, 6, 7, 8]).reshape(-1, 1)  # sklearn expects 2D array for features\n",
    "y = np.array([7, 14, 15, 18, 19, 21, 26, 23])\n",
    "\n",
    "# Create and fit the model\n",
    "model = LinearRegression()\n",
    "model.fit(x, y)\n",
    "\n",
    "# Coefficients\n",
    "b0 = model.intercept_\n",
    "b1 = model.coef_[0]\n",
    "\n",
    "# Predictions\n",
    "y_pred = model.predict(x)\n",
    "\n",
    "# Performance evaluation\n",
    "r2 = r2_score(y, y_pred)\n",
    "\n",
    "print(\"Intercept (b0):\", b0)\n",
    "print(\"Slope (b1):\", b1)\n",
    "print(\"R^2 score:\", r2)\n"
   ]
  },
  {
   "cell_type": "code",
   "execution_count": null,
   "id": "f9536a7e-ed76-4206-99b7-a2a91219809a",
   "metadata": {},
   "outputs": [],
   "source": []
  }
 ],
 "metadata": {
  "kernelspec": {
   "display_name": "Python 3 (ipykernel)",
   "language": "python",
   "name": "python3"
  },
  "language_info": {
   "codemirror_mode": {
    "name": "ipython",
    "version": 3
   },
   "file_extension": ".py",
   "mimetype": "text/x-python",
   "name": "python",
   "nbconvert_exporter": "python",
   "pygments_lexer": "ipython3",
   "version": "3.13.5"
  }
 },
 "nbformat": 4,
 "nbformat_minor": 5
}
