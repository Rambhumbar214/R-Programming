{
 "cells": [
  {
   "cell_type": "code",
   "execution_count": 1,
   "id": "e9e0f7df-3374-48d6-a344-f634436684e5",
   "metadata": {},
   "outputs": [
    {
     "name": "stdout",
     "output_type": "stream",
     "text": [
      "Intercept: 1666.6666666666715\n",
      "Coefficients: [ -573.33333333 26333.33333333]\n",
      "Mean Absolute Error (MAE): 213.33\n",
      "Mean Squared Error (MSE): 53333.33\n",
      "Root Mean Squared Error (RMSE): 230.94\n"
     ]
    }
   ],
   "source": [
    "import numpy as np\n",
    "import pandas as pd\n",
    "from sklearn.linear_model import LinearRegression\n",
    "from sklearn.metrics import mean_absolute_error, mean_squared_error\n",
    "\n",
    "# Sample data\n",
    "data = {\n",
    "    'Speed': [60, 65, 70, 80, 85],\n",
    "    'Engine Size': [2.0, 2.2, 2.4, 3.0, 3.2],\n",
    "    'Price': [20000, 22000, 25000, 35000, 37000]\n",
    "}\n",
    "\n",
    "# Create DataFrame\n",
    "df = pd.DataFrame(data)\n",
    "\n",
    "# Features (Speed and Engine Size)\n",
    "X = df[['Speed', 'Engine Size']]\n",
    "\n",
    "# Target (Price)\n",
    "y = df['Price']\n",
    "\n",
    "# Create and fit the Multiple Linear Regression model\n",
    "model = LinearRegression()\n",
    "model.fit(X, y)\n",
    "\n",
    "# Predict the price\n",
    "y_pred = model.predict(X)\n",
    "\n",
    "# Model coefficients\n",
    "print(\"Intercept:\", model.intercept_)\n",
    "print(\"Coefficients:\", model.coef_)\n",
    "\n",
    "# Evaluate the model\n",
    "mae = mean_absolute_error(y, y_pred)\n",
    "mse = mean_squared_error(y, y_pred)\n",
    "rmse = np.sqrt(mse)\n",
    "\n",
    "print(f\"Mean Absolute Error (MAE): {mae:.2f}\")\n",
    "print(f\"Mean Squared Error (MSE): {mse:.2f}\")\n",
    "print(f\"Root Mean Squared Error (RMSE): {rmse:.2f}\")\n"
   ]
  },
  {
   "cell_type": "code",
   "execution_count": null,
   "id": "c5aae3b7-0c6f-4829-9a6a-a9b61a4b9b5b",
   "metadata": {},
   "outputs": [],
   "source": []
  }
 ],
 "metadata": {
  "kernelspec": {
   "display_name": "Python 3 (ipykernel)",
   "language": "python",
   "name": "python3"
  },
  "language_info": {
   "codemirror_mode": {
    "name": "ipython",
    "version": 3
   },
   "file_extension": ".py",
   "mimetype": "text/x-python",
   "name": "python",
   "nbconvert_exporter": "python",
   "pygments_lexer": "ipython3",
   "version": "3.13.5"
  }
 },
 "nbformat": 4,
 "nbformat_minor": 5
}
