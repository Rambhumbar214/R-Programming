{
 "cells": [
  {
   "cell_type": "code",
   "execution_count": 1,
   "id": "e95c39fe-9b3e-49dc-834d-171e5c3ee561",
   "metadata": {},
   "outputs": [
    {
     "name": "stdout",
     "output_type": "stream",
     "text": [
      "Predicted Class: Yes\n"
     ]
    },
    {
     "name": "stderr",
     "output_type": "stream",
     "text": [
      "C:\\Users\\Admin\\anaconda3\\Lib\\site-packages\\sklearn\\utils\\validation.py:2739: UserWarning: X does not have valid feature names, but GaussianNB was fitted with feature names\n",
      "  warnings.warn(\n"
     ]
    }
   ],
   "source": [
    "import pandas as pd\n",
    "from sklearn.preprocessing import LabelEncoder\n",
    "from sklearn.naive_bayes import GaussianNB\n",
    "\n",
    "# Dataset\n",
    "weather = ['Sunny','Sunny','Overcast','Rainy','Rainy','Rainy','Overcast',\n",
    "           'Sunny','Sunny','Rainy','Sunny','Overcast','Overcast','Rainy']\n",
    "temp = ['Hot','Hot','Hot','Mild','Cool','Cool','Cool','Mild',\n",
    "        'Cool','Mild','Mild','Mild','Hot','Mild']\n",
    "play = ['No','No','Yes','Yes','Yes','No','Yes','No','Yes',\n",
    "        'Yes','Yes','Yes','Yes','No']\n",
    "\n",
    "# Create DataFrame\n",
    "df = pd.DataFrame({'Weather': weather, 'Temp': temp, 'Play': play})\n",
    "\n",
    "# Encode categorical values\n",
    "le_weather = LabelEncoder()\n",
    "le_temp = LabelEncoder()\n",
    "le_play = LabelEncoder()\n",
    "\n",
    "df['Weather_n'] = le_weather.fit_transform(df['Weather'])\n",
    "df['Temp_n'] = le_temp.fit_transform(df['Temp'])\n",
    "df['Play_n'] = le_play.fit_transform(df['Play'])\n",
    "\n",
    "# Features and label\n",
    "X = df[['Weather_n', 'Temp_n']]\n",
    "y = df['Play_n']\n",
    "\n",
    "# Train Naive Bayes\n",
    "model = GaussianNB()\n",
    "model.fit(X, y)\n",
    "\n",
    "# Predict for [Overcast, Mild] => [0, 2]\n",
    "predicted = model.predict([[0, 2]])\n",
    "\n",
    "print(\"Predicted Class:\", le_play.inverse_transform(predicted)[0])  # Output: Yes/No\n"
   ]
  },
  {
   "cell_type": "code",
   "execution_count": null,
   "id": "522c78a3-598b-4b8b-bab7-4d212aaef7ae",
   "metadata": {},
   "outputs": [],
   "source": []
  }
 ],
 "metadata": {
  "kernelspec": {
   "display_name": "Python 3 (ipykernel)",
   "language": "python",
   "name": "python3"
  },
  "language_info": {
   "codemirror_mode": {
    "name": "ipython",
    "version": 3
   },
   "file_extension": ".py",
   "mimetype": "text/x-python",
   "name": "python",
   "nbconvert_exporter": "python",
   "pygments_lexer": "ipython3",
   "version": "3.13.5"
  }
 },
 "nbformat": 4,
 "nbformat_minor": 5
}
