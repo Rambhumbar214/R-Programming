{
 "cells": [
  {
   "cell_type": "code",
   "execution_count": 5,
   "id": "8aaa251b-148e-4c73-8023-998e8e2269c5",
   "metadata": {},
   "outputs": [
    {
     "name": "stdout",
     "output_type": "stream",
     "text": [
      "Prediction (1=Go, 0=Don't Go): 0\n"
     ]
    }
   ],
   "source": [
    "import pandas as pd\n",
    "from sklearn.tree import DecisionTreeClassifier\n",
    "\n",
    "df = pd.read_csv(r\"C:\\Users\\Admin\\Desktop\\Ram_Datamininig\\Chapter3\\shows.csv\")\n",
    "\n",
    "X = df[[\"NationalityLabel\", \"Age\", \"Experience\", \"Rank\"]]\n",
    "y = df[\"GoLabel\"]\n",
    "\n",
    "model = DecisionTreeClassifier()\n",
    "model.fit(X, y)\n",
    "\n",
    "sample = pd.DataFrame([[1, 40, 10, 7]], columns=[\"NationalityLabel\", \"Age\", \"Experience\", \"Rank\"])\n",
    "prediction = model.predict(sample)\n",
    "\n",
    "print(\"Prediction (1=Go, 0=Don't Go):\", prediction[0])\n"
   ]
  },
  {
   "cell_type": "code",
   "execution_count": null,
   "id": "537c1e20-5af1-4068-8957-a868d5e5b7f0",
   "metadata": {},
   "outputs": [],
   "source": []
  }
 ],
 "metadata": {
  "kernelspec": {
   "display_name": "Python 3 (ipykernel)",
   "language": "python",
   "name": "python3"
  },
  "language_info": {
   "codemirror_mode": {
    "name": "ipython",
    "version": 3
   },
   "file_extension": ".py",
   "mimetype": "text/x-python",
   "name": "python",
   "nbconvert_exporter": "python",
   "pygments_lexer": "ipython3",
   "version": "3.13.5"
  }
 },
 "nbformat": 4,
 "nbformat_minor": 5
}
